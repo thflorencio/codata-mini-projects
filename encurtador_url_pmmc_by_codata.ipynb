{
  "nbformat": 4,
  "nbformat_minor": 0,
  "metadata": {
    "colab": {
      "provenance": [],
      "include_colab_link": true
    },
    "kernelspec": {
      "name": "python3",
      "display_name": "Python 3"
    },
    "language_info": {
      "name": "python"
    }
  },
  "cells": [
    {
      "cell_type": "markdown",
      "metadata": {
        "id": "view-in-github",
        "colab_type": "text"
      },
      "source": [
        "<a href=\"https://colab.research.google.com/github/thflorencio/codata-mini-projects/blob/main/encurtador_url_pmmc_by_codata.ipynb\" target=\"_parent\"><img src=\"https://colab.research.google.com/assets/colab-badge.svg\" alt=\"Open In Colab\"/></a>"
      ]
    },
    {
      "cell_type": "markdown",
      "source": [
        "# Encurtador de URL PMMC by CODATA\n",
        "\n",
        "\n",
        "*   Import da lib *requests*\n",
        "*   atribuição de base_url do tinyurl\n",
        "*   API Token, exclusivo para SMDEI-TGD\n",
        "*   Parametrização da encurtar_url\n",
        "\n",
        "\n",
        "\n",
        "\n",
        "\n",
        "\n"
      ],
      "metadata": {
        "id": "gvDoXh4JI4eJ"
      }
    },
    {
      "cell_type": "code",
      "execution_count": null,
      "metadata": {
        "id": "EnzFzKvWCXr3"
      },
      "outputs": [],
      "source": [
        "import requests"
      ]
    },
    {
      "cell_type": "code",
      "source": [
        "base_url = \"https://api.tinyurl.com/create\"\n",
        "api_token = \"v86fmH3hKb9pVtr1kG9JleyBmjqLpAzCcoa2abtdQPiiaWaqU30IQ2sLIYXx\" #token smdei-mogi-city"
      ],
      "metadata": {
        "id": "i4i22QPGCf8q"
      },
      "execution_count": null,
      "outputs": []
    },
    {
      "cell_type": "code",
      "source": [
        "def encurtar_url(url, domain, alias, tags):\n",
        "    api_url = f\"{base_url}?api_token={api_token}\"\n",
        "    payload = {\n",
        "        'url': url,\n",
        "        'domain': domain,\n",
        "        'alias': alias,\n",
        "        'tags': [tags],  # A API pode esperar uma lista de tags\n",
        "    }\n",
        "    response = requests.post(api_url, json=payload)\n",
        "    \n",
        "    if response.status_code == 200:\n",
        "        try:\n",
        "            return response.json()['data']['tiny_url']\n",
        "        except KeyError:\n",
        "            print(f\"Chave 'tiny_url' não encontrada na resposta. Resposta completa: {response.json()}\")\n",
        "    else:\n",
        "        return f\"Erro: {response.status_code}, {response.text}\""
      ],
      "metadata": {
        "id": "CXZ2Vh64Clf0"
      },
      "execution_count": null,
      "outputs": []
    },
    {
      "cell_type": "markdown",
      "source": [
        "# PREENCHA URL e ALIAS\n",
        "Faça o preenchimento da URL e ALIAS nos INPUTs do lado direito das células abaixo."
      ],
      "metadata": {
        "id": "x9XVG0V4IbBF"
      }
    },
    {
      "cell_type": "code",
      "source": [
        "### URL\n",
        "\n",
        "url = 'https://forms.gle/65zNmT1YtycUc3Dx6'  #@param {type: \"string\"}"
      ],
      "metadata": {
        "id": "BP15dWSUGzAj"
      },
      "execution_count": null,
      "outputs": []
    },
    {
      "cell_type": "code",
      "source": [
        "alias = 'programa-empregabilidade-2023'  #@param {type: \"string\"}"
      ],
      "metadata": {
        "id": "xw9GAIOxHj7e"
      },
      "execution_count": null,
      "outputs": []
    },
    {
      "cell_type": "markdown",
      "source": [
        "# Trecho final do app\n",
        "\n",
        "\n",
        "\n",
        "1.   setting: domain\n",
        "2.   setting: tags\n",
        "3.   print\n",
        "\n",
        "\n",
        "\n"
      ],
      "metadata": {
        "id": "ztrj13Gp5b-c"
      }
    },
    {
      "cell_type": "code",
      "source": [
        "domain = \"mogi.city\"\n",
        "tags = \"smdei-tgd, codata-app\"\n",
        "\n",
        "url_encurtada = encurtar_url(url, domain, alias, tags)"
      ],
      "metadata": {
        "id": "N8daTPCt5Uup"
      },
      "execution_count": null,
      "outputs": []
    },
    {
      "cell_type": "code",
      "source": [
        "print(url_encurtada)"
      ],
      "metadata": {
        "colab": {
          "base_uri": "https://localhost:8080/"
        },
        "id": "an5acYLeCrBK",
        "outputId": "9f09a540-1831-4392-bef9-35a1f41bee8b"
      },
      "execution_count": null,
      "outputs": [
        {
          "output_type": "stream",
          "name": "stdout",
          "text": [
            "https://mogi.city/codata-smdei\n"
          ]
        }
      ]
    }
  ]
}